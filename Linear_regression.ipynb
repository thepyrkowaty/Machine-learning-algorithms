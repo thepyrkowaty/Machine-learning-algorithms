{
 "cells": [
  {
   "cell_type": "markdown",
   "metadata": {
    "id": "4_AAh-8NQE1G"
   },
   "source": [
    "# Import libraries + install dataset from R\n"
   ]
  },
  {
   "cell_type": "code",
   "execution_count": 1,
   "metadata": {
    "id": "oX5F-K0tkP6n"
   },
   "outputs": [],
   "source": [
    "from rdatasets import data\n",
    "import matplotlib.pyplot as plt\n",
    "import numpy as np\n",
    "import pandas as pd\n",
    "import sklearn.model_selection\n",
    "from sklearn import linear_model\n",
    "from matplotlib import style\n",
    "style.use('ggplot')"
   ]
  },
  {
   "cell_type": "markdown",
   "metadata": {
    "id": "FMisLZCfQMY8"
   },
   "source": [
    "# Dataset overview"
   ]
  },
  {
   "cell_type": "code",
   "execution_count": 2,
   "metadata": {
    "id": "u1wZcwSzkiSN"
   },
   "outputs": [],
   "source": [
    "df = data('cars')"
   ]
  },
  {
   "cell_type": "code",
   "execution_count": 3,
   "metadata": {
    "colab": {
     "base_uri": "https://localhost:8080/",
     "height": 198
    },
    "id": "2weQQc-akmEN",
    "outputId": "a5a3abb4-05cd-4f89-a0cc-ec5e768c5133"
   },
   "outputs": [
    {
     "data": {
      "text/html": [
       "<div>\n",
       "<style scoped>\n",
       "    .dataframe tbody tr th:only-of-type {\n",
       "        vertical-align: middle;\n",
       "    }\n",
       "\n",
       "    .dataframe tbody tr th {\n",
       "        vertical-align: top;\n",
       "    }\n",
       "\n",
       "    .dataframe thead th {\n",
       "        text-align: right;\n",
       "    }\n",
       "</style>\n",
       "<table border=\"1\" class=\"dataframe\">\n",
       "  <thead>\n",
       "    <tr style=\"text-align: right;\">\n",
       "      <th></th>\n",
       "      <th>speed</th>\n",
       "      <th>dist</th>\n",
       "    </tr>\n",
       "  </thead>\n",
       "  <tbody>\n",
       "    <tr>\n",
       "      <th>0</th>\n",
       "      <td>4</td>\n",
       "      <td>2</td>\n",
       "    </tr>\n",
       "    <tr>\n",
       "      <th>1</th>\n",
       "      <td>4</td>\n",
       "      <td>10</td>\n",
       "    </tr>\n",
       "    <tr>\n",
       "      <th>2</th>\n",
       "      <td>7</td>\n",
       "      <td>4</td>\n",
       "    </tr>\n",
       "    <tr>\n",
       "      <th>3</th>\n",
       "      <td>7</td>\n",
       "      <td>22</td>\n",
       "    </tr>\n",
       "    <tr>\n",
       "      <th>4</th>\n",
       "      <td>8</td>\n",
       "      <td>16</td>\n",
       "    </tr>\n",
       "  </tbody>\n",
       "</table>\n",
       "</div>"
      ],
      "text/plain": [
       "   speed  dist\n",
       "0      4     2\n",
       "1      4    10\n",
       "2      7     4\n",
       "3      7    22\n",
       "4      8    16"
      ]
     },
     "execution_count": 3,
     "metadata": {},
     "output_type": "execute_result"
    }
   ],
   "source": [
    "df.head()"
   ]
  },
  {
   "cell_type": "code",
   "execution_count": 4,
   "metadata": {
    "colab": {
     "base_uri": "https://localhost:8080/",
     "height": 288
    },
    "id": "4DXLj2ndp6hZ",
    "outputId": "3074c9ea-e645-4905-87ee-005eb039947b"
   },
   "outputs": [
    {
     "data": {
      "text/html": [
       "<div>\n",
       "<style scoped>\n",
       "    .dataframe tbody tr th:only-of-type {\n",
       "        vertical-align: middle;\n",
       "    }\n",
       "\n",
       "    .dataframe tbody tr th {\n",
       "        vertical-align: top;\n",
       "    }\n",
       "\n",
       "    .dataframe thead th {\n",
       "        text-align: right;\n",
       "    }\n",
       "</style>\n",
       "<table border=\"1\" class=\"dataframe\">\n",
       "  <thead>\n",
       "    <tr style=\"text-align: right;\">\n",
       "      <th></th>\n",
       "      <th>speed</th>\n",
       "      <th>dist</th>\n",
       "    </tr>\n",
       "  </thead>\n",
       "  <tbody>\n",
       "    <tr>\n",
       "      <th>count</th>\n",
       "      <td>50.000000</td>\n",
       "      <td>50.000000</td>\n",
       "    </tr>\n",
       "    <tr>\n",
       "      <th>mean</th>\n",
       "      <td>15.400000</td>\n",
       "      <td>42.980000</td>\n",
       "    </tr>\n",
       "    <tr>\n",
       "      <th>std</th>\n",
       "      <td>5.287644</td>\n",
       "      <td>25.769377</td>\n",
       "    </tr>\n",
       "    <tr>\n",
       "      <th>min</th>\n",
       "      <td>4.000000</td>\n",
       "      <td>2.000000</td>\n",
       "    </tr>\n",
       "    <tr>\n",
       "      <th>25%</th>\n",
       "      <td>12.000000</td>\n",
       "      <td>26.000000</td>\n",
       "    </tr>\n",
       "    <tr>\n",
       "      <th>50%</th>\n",
       "      <td>15.000000</td>\n",
       "      <td>36.000000</td>\n",
       "    </tr>\n",
       "    <tr>\n",
       "      <th>75%</th>\n",
       "      <td>19.000000</td>\n",
       "      <td>56.000000</td>\n",
       "    </tr>\n",
       "    <tr>\n",
       "      <th>max</th>\n",
       "      <td>25.000000</td>\n",
       "      <td>120.000000</td>\n",
       "    </tr>\n",
       "  </tbody>\n",
       "</table>\n",
       "</div>"
      ],
      "text/plain": [
       "           speed        dist\n",
       "count  50.000000   50.000000\n",
       "mean   15.400000   42.980000\n",
       "std     5.287644   25.769377\n",
       "min     4.000000    2.000000\n",
       "25%    12.000000   26.000000\n",
       "50%    15.000000   36.000000\n",
       "75%    19.000000   56.000000\n",
       "max    25.000000  120.000000"
      ]
     },
     "execution_count": 4,
     "metadata": {},
     "output_type": "execute_result"
    }
   ],
   "source": [
    "df.describe()"
   ]
  },
  {
   "cell_type": "code",
   "execution_count": 5,
   "metadata": {
    "colab": {
     "base_uri": "https://localhost:8080/"
    },
    "id": "yr34cvewPHrM",
    "outputId": "2f8b810c-7f36-4aa6-ccb3-67e170fc0888"
   },
   "outputs": [
    {
     "name": "stdout",
     "output_type": "stream",
     "text": [
      "<class 'pandas.core.frame.DataFrame'>\n",
      "RangeIndex: 50 entries, 0 to 49\n",
      "Data columns (total 2 columns):\n",
      " #   Column  Non-Null Count  Dtype\n",
      "---  ------  --------------  -----\n",
      " 0   speed   50 non-null     int64\n",
      " 1   dist    50 non-null     int64\n",
      "dtypes: int64(2)\n",
      "memory usage: 928.0 bytes\n"
     ]
    }
   ],
   "source": [
    "df.info()"
   ]
  },
  {
   "cell_type": "code",
   "execution_count": 6,
   "metadata": {
    "colab": {
     "base_uri": "https://localhost:8080/",
     "height": 626
    },
    "id": "75-qDEC9k79U",
    "outputId": "d7c6097e-347f-4954-901a-a4e19cbbd2d3"
   },
   "outputs": [
    {
     "data": {
      "image/png": "[encoded data removed]",
      "text/plain": [
       "<Figure size 720x720 with 1 Axes>"
      ]
     },
     "metadata": {},
     "output_type": "display_data"
    }
   ],
   "source": [
    "plt.figure(figsize=(10, 10))\n",
    "plt.scatter(df['speed'], df['dist'])\n",
    "plt.title('dist(speed)')\n",
    "plt.xlabel('speed', color='k')\n",
    "plt.ylabel('dist', color='k')\n",
    "plt.show()"
   ]
  },
  {
   "cell_type": "markdown",
   "metadata": {
    "id": "3GWxU7_9QVma"
   },
   "source": [
    "# Regression with sklearn"
   ]
  },
  {
   "cell_type": "markdown",
   "metadata": {
    "id": "HW4pa2ctk2nz"
   },
   "source": [
    "Preparing data"
   ]
  },
  {
   "cell_type": "code",
   "execution_count": 7,
   "metadata": {
    "id": "PdER2CdvlL-s"
   },
   "outputs": [],
   "source": [
    "predict = 'dist'\n",
    "x = np.array(df.drop([predict], 1))\n",
    "y = np.array(df[predict])\n",
    "x_train, x_test, y_train, y_test = sklearn.model_selection.train_test_split(x, y, test_size=0.1)"
   ]
  },
  {
   "cell_type": "markdown",
   "metadata": {
    "id": "zOtUiCsbk6m6"
   },
   "source": [
    "Finding the 'best model'"
   ]
  },
  {
   "cell_type": "code",
   "execution_count": 8,
   "metadata": {
    "colab": {
     "base_uri": "https://localhost:8080/"
    },
    "id": "TP-uW78Kl40y",
    "outputId": "fb621f44-4555-4d8d-fdff-7afcb04aa850"
   },
   "outputs": [
    {
     "name": "stdout",
     "output_type": "stream",
     "text": [
      "Best accuracy = 0.9562384088687786\n"
     ]
    }
   ],
   "source": [
    "best = 0\n",
    "for _ in range(400):\n",
    "    x_train, x_test, y_train, y_test = sklearn.model_selection.train_test_split(x, y, test_size=0.1)\n",
    "\n",
    "    linear = linear_model.Ridge()\n",
    "    linear.fit(x_train,y_train)\n",
    "    acc = linear.score(x_test,y_test)\n",
    "    # print(acc)\n",
    "\n",
    "    if acc>best:\n",
    "        best = acc\n",
    "        bestModel = linear\n",
    "        \n",
    "print(f'Best accuracy = {best}')"
   ]
  },
  {
   "cell_type": "markdown",
   "metadata": {
    "id": "-4nWuASGlOlk"
   },
   "source": [
    "Printing bias and weights"
   ]
  },
  {
   "cell_type": "code",
   "execution_count": 9,
   "metadata": {
    "colab": {
     "base_uri": "https://localhost:8080/"
    },
    "id": "-R_PfVSLmBWn",
    "outputId": "e48d9d14-c9d0-4e5e-f797-31d8b9ee20ec"
   },
   "outputs": [
    {
     "name": "stdout",
     "output_type": "stream",
     "text": [
      "w: \n",
      " [3.8597902]\n",
      "b: \n",
      " -16.260287387709766\n"
     ]
    }
   ],
   "source": [
    "print(\"w: \\n\", bestModel.coef_)\n",
    "print(\"b: \\n\", bestModel.intercept_)\n",
    "a = bestModel.coef_\n",
    "b = bestModel.intercept_"
   ]
  },
  {
   "cell_type": "markdown",
   "metadata": {
    "id": "GqtIweP_lbM2"
   },
   "source": [
    "Testing on test data"
   ]
  },
  {
   "cell_type": "code",
   "execution_count": 10,
   "metadata": {
    "id": "QuToPWUXmLU6"
   },
   "outputs": [],
   "source": [
    "predictions = bestModel.predict(x_test)"
   ]
  },
  {
   "cell_type": "code",
   "execution_count": 11,
   "metadata": {
    "colab": {
     "base_uri": "https://localhost:8080/"
    },
    "id": "7ui4AlYBmF28",
    "outputId": "006e0c39-7125-4b8d-8df9-935f23c83e41"
   },
   "outputs": [
    {
     "name": "stdout",
     "output_type": "stream",
     "text": [
      "33.91698525395958 [13] 34\n",
      "41.63656566037025 [15] 20\n",
      "57.075726473191594 [19] 68\n",
      "45.49635586357559 [16] 32\n",
      "60.93551667639693 [20] 32\n"
     ]
    }
   ],
   "source": [
    "for i in range(len(predictions)):\n",
    "    print(predictions[i], x_test[i], y_test[i])"
   ]
  },
  {
   "cell_type": "markdown",
   "metadata": {
    "id": "zC7G37kZlpRI"
   },
   "source": [
    "Plotting predictions for data points"
   ]
  },
  {
   "cell_type": "code",
   "execution_count": 12,
   "metadata": {
    "colab": {
     "base_uri": "https://localhost:8080/",
     "height": 626
    },
    "id": "gJQ8hqLjnKtt",
    "outputId": "1aae4a50-eae6-4f62-c2a3-fa164ba0e2cb"
   },
   "outputs": [
    {
     "data": {
      "image/png": "[encoded data removed]",
      "text/plain": [
       "<Figure size 720x720 with 1 Axes>"
      ]
     },
     "metadata": {},
     "output_type": "display_data"
    }
   ],
   "source": [
    "plt.figure(figsize=(10, 10))\n",
    "plt.scatter(df['speed'], df['dist'])\n",
    "plt.plot(df['speed'], a*df['speed']+b, color='k')\n",
    "plt.title('dist(speed)')\n",
    "plt.xlabel('speed', color='k')\n",
    "plt.ylabel('dist', color='k')\n",
    "plt.show()"
   ]
  },
  {
   "cell_type": "markdown",
   "metadata": {
    "id": "rKvnHcgkmBvW"
   },
   "source": [
    "Prediction for X = 9"
   ]
  },
  {
   "cell_type": "code",
   "execution_count": 13,
   "metadata": {
    "colab": {
     "base_uri": "https://localhost:8080/"
    },
    "id": "780nlYX1oQbj",
    "outputId": "b99e22bb-4739-40ad-d0f9-a7746686b0e3"
   },
   "outputs": [
    {
     "name": "stdout",
     "output_type": "stream",
     "text": [
      "X =  9\n",
      "Y =  [18.47782444]\n"
     ]
    }
   ],
   "source": [
    "print('X = ', df['speed'][5])\n",
    "print('Y = ', df['speed'][5]*a + b)"
   ]
  },
  {
   "cell_type": "markdown",
   "metadata": {
    "id": "aG_jsX1KFUU7"
   },
   "source": [
    "# My implementation of the algorythm"
   ]
  },
  {
   "cell_type": "code",
   "execution_count": 14,
   "metadata": {
    "id": "0fmGc5lnKVOw"
   },
   "outputs": [],
   "source": [
    "w0 = bestModel.intercept_\n",
    "w1 = 10\n",
    "y = y.reshape(x.shape)"
   ]
  },
  {
   "cell_type": "markdown",
   "metadata": {
    "id": "cvwM35NsmhFd"
   },
   "source": [
    "Creating prediction and cost functions"
   ]
  },
  {
   "cell_type": "code",
   "execution_count": 15,
   "metadata": {
    "id": "L8XXafzIGFXh"
   },
   "outputs": [],
   "source": [
    "def TPredict(theta, x):\n",
    "  a = np.append(np.ones(x.shape[0]).reshape(x.shape), x, axis=1)\n",
    "  return np.matmul(a, theta)\n",
    "# Default without regularization (lambda = 0),  L2 if lam > 0\n",
    "# If L1 = True and lam > 0, then regularization L1 will be used.\n",
    "def Tcost(theta, x, y, lam=0, L1=False):\n",
    "  yPred = TPredict(theta, x)\n",
    "  if L1 is False:\n",
    "    err = (yPred - y)**2 + lam*np.sum(theta**2)\n",
    "  elif L1 is True:\n",
    "    err =  (yPred - y)**2 + lam*np.sum(np.abs(theta))\n",
    "  return (np.sum(err))"
   ]
  },
  {
   "cell_type": "markdown",
   "metadata": {
    "id": "WYkLXJVHnfZ9"
   },
   "source": [
    "Implementation of batch gradient descent"
   ]
  },
  {
   "cell_type": "code",
   "execution_count": 16,
   "metadata": {
    "id": "UCGYMcGpFYlH"
   },
   "outputs": [],
   "source": [
    "def GradD(x, y, alpha = 0.005, epsilon = 10e-5):\n",
    "  theta = np.array([1, 1]).reshape(2, 1)\n",
    "  delta = 1\n",
    "  i = 0\n",
    "  a = np.append(np.ones(x.shape[0]).reshape(x.shape), x, axis=1)\n",
    "  cost = Tcost(theta, x, y)\n",
    "  while(delta > epsilon):\n",
    "    grad = np.matmul(np.transpose(a), TPredict(theta, x) - y)\n",
    "    theta = theta - alpha/x.shape[0] * grad\n",
    "    costVal = Tcost(theta, x, y)\n",
    "    cost = np.append(cost, costVal)\n",
    "    delta = np.abs(cost[i+1] - cost[i])\n",
    "    if((cost[i+1] - cost[i]) > 0):\n",
    "      print('Reduce alpha')\n",
    "      return\n",
    "    i+=1\n",
    "  print(f'Number of iterations = {i}')\n",
    "  return theta"
   ]
  },
  {
   "cell_type": "markdown",
   "metadata": {
    "id": "XB6aCcbvn6Y9"
   },
   "source": [
    "Comparing time when data is normalized and when it is not."
   ]
  },
  {
   "cell_type": "code",
   "execution_count": 17,
   "metadata": {
    "colab": {
     "base_uri": "https://localhost:8080/"
    },
    "id": "Hiv6_t0sTnmd",
    "outputId": "0946cc01-3654-4c0a-a075-f9814e75b3a4"
   },
   "outputs": [
    {
     "name": "stdout",
     "output_type": "stream",
     "text": [
      "Number of iterations = 9527\n",
      "Wall time: 766 ms\n"
     ]
    }
   ],
   "source": [
    "%%time\n",
    "coefs = GradD(x, y)"
   ]
  },
  {
   "cell_type": "code",
   "execution_count": 18,
   "metadata": {
    "colab": {
     "base_uri": "https://localhost:8080/"
    },
    "id": "JEwgFXLGkeQM",
    "outputId": "58e5ac89-939d-4c52-8a92-1b6cb4a45b0d"
   },
   "outputs": [
    {
     "name": "stdout",
     "output_type": "stream",
     "text": [
      "[[-17.44243671]\n",
      " [  3.9244508 ]]\n"
     ]
    }
   ],
   "source": [
    "print(coefs)"
   ]
  },
  {
   "cell_type": "code",
   "execution_count": 19,
   "metadata": {
    "colab": {
     "base_uri": "https://localhost:8080/"
    },
    "id": "Z9VER6rTRklk",
    "outputId": "38520596-55f6-4bdd-b142-b8d02e73f1a0"
   },
   "outputs": [
    {
     "name": "stdout",
     "output_type": "stream",
     "text": [
      "Number of iterations = 245\n",
      "[[42.97998905]\n",
      " [20.5841922 ]]\n",
      "Wall time: 25.1 ms\n"
     ]
    }
   ],
   "source": [
    "%%time\n",
    "# Test for normalized data\n",
    "x_norm = (x - np.mean(x)) / np.std(x)\n",
    "stheta = GradD(x_norm, y, alpha = 0.06, epsilon = 10e-10)\n",
    "print(stheta)"
   ]
  },
  {
   "cell_type": "markdown",
   "metadata": {
    "id": "z8xIwWUWoLLT"
   },
   "source": [
    "Couting weights - they are similar to weights that i got from sklearn"
   ]
  },
  {
   "cell_type": "code",
   "execution_count": 20,
   "metadata": {
    "colab": {
     "base_uri": "https://localhost:8080/"
    },
    "id": "x3fRx--ISyL3",
    "outputId": "709da0ba-3197-4a31-87ca-294491a59b8b"
   },
   "outputs": [
    {
     "name": "stdout",
     "output_type": "stream",
     "text": [
      "[[  3.93240778]\n",
      " [-17.57909081]]\n"
     ]
    }
   ],
   "source": [
    "ctheta = stheta[1:stheta.shape[0]] / np.array(np.std(x))\n",
    "cthetazero = stheta[0] - np.sum(stheta[1:stheta.shape[0]] / np.array(np.std(x)) * np.array(np.mean(x)))\n",
    "ctheta = np.array([ctheta, cthetazero], dtype='float64')\n",
    "print(ctheta)"
   ]
  },
  {
   "cell_type": "markdown",
   "metadata": {
    "id": "lqcQ7PZSoRHG"
   },
   "source": [
    "Plotting graph with predictions for data points"
   ]
  },
  {
   "cell_type": "code",
   "execution_count": 21,
   "metadata": {
    "colab": {
     "base_uri": "https://localhost:8080/",
     "height": 626
    },
    "id": "LSUmoDoyO_qb",
    "outputId": "732e64af-2832-47de-c7b3-0799752518bd"
   },
   "outputs": [
    {
     "data": {
      "image/png": "[encoded data removed]",
      "text/plain": [
       "<Figure size 720x720 with 1 Axes>"
      ]
     },
     "metadata": {},
     "output_type": "display_data"
    }
   ],
   "source": [
    "plt.figure(figsize=(10, 10))\n",
    "plt.scatter(df['speed'], df['dist'])\n",
    "plt.plot(df['speed'], coefs[1]*df['speed']+coefs[0], color='k')\n",
    "plt.title('dist(speed)')\n",
    "plt.xlabel('speed',  color='k')\n",
    "plt.ylabel('dist',  color='k')\n",
    "plt.show()"
   ]
  }
 ],
 "metadata": {
  "colab": {
   "collapsed_sections": [
    "4_AAh-8NQE1G",
    "FMisLZCfQMY8",
    "3GWxU7_9QVma",
    "aG_jsX1KFUU7"
   ],
   "name": "Linear regression.ipynb",
   "provenance": []
  },
  "kernelspec": {
   "display_name": "Python 3",
   "language": "python",
   "name": "python3"
  },
  "language_info": {
   "codemirror_mode": {
    "name": "ipython",
    "version": 3
   },
   "file_extension": ".py",
   "mimetype": "text/x-python",
   "name": "python",
   "nbconvert_exporter": "python",
   "pygments_lexer": "ipython3",
   "version": "3.8.3"
  }
 },
 "nbformat": 4,
 "nbformat_minor": 4
}
